{
  "nbformat": 4,
  "nbformat_minor": 0,
  "metadata": {
    "colab": {
      "name": "Python_And_Cyber_Security.ipynb",
      "provenance": []
    },
    "kernelspec": {
      "name": "python3",
      "display_name": "Python 3"
    },
    "language_info": {
      "name": "python"
    }
  },
  "cells": [
    {
      "cell_type": "markdown",
      "metadata": {
        "id": "1i8uclEc5JSK"
      },
      "source": [
        "**IMPORTING LIBRARIES**"
      ]
    },
    {
      "cell_type": "code",
      "metadata": {
        "id": "XesVS4BZ4we_"
      },
      "source": [
        "import requests\n",
        "import os\n",
        "from datetime import datetime"
      ],
      "execution_count": 1,
      "outputs": []
    },
    {
      "cell_type": "markdown",
      "metadata": {
        "id": "bIVa62BN5ZOo"
      },
      "source": [
        "**GETTING INFORMATION**"
      ]
    },
    {
      "cell_type": "code",
      "metadata": {
        "colab": {
          "base_uri": "https://localhost:8080/"
        },
        "id": "eXBNl1SG44AA",
        "outputId": "83202dbb-6af7-4e51-fcb0-8984e72376aa"
      },
      "source": [
        "api_key = '49cc8c821cd2aff9af04c9f98c36eb74'\n",
        "location = input(\"Enter the city name : \")"
      ],
      "execution_count": 2,
      "outputs": [
        {
          "output_type": "stream",
          "text": [
            "Enter the city name : Chennai\n"
          ],
          "name": "stdout"
        }
      ]
    },
    {
      "cell_type": "markdown",
      "metadata": {
        "id": "VvtDQTYb5eFl"
      },
      "source": [
        "**GETTING INFORMAITON FROM API**"
      ]
    },
    {
      "cell_type": "code",
      "metadata": {
        "colab": {
          "base_uri": "https://localhost:8080/"
        },
        "id": "npsZG1fn47-Y",
        "outputId": "5d9bdd39-49ab-4078-cd81-80b8cae66ee7"
      },
      "source": [
        "complete_api_link = \"https://api.openweathermap.org/data/2.5/weather?q=\"+location+\"&appid=\"+api_key\n",
        "api_link = requests.get(complete_api_link)\n",
        "api_data = api_link.json()"
      ],
      "execution_count": 3,
      "outputs": [
        {
          "output_type": "stream",
          "text": [
            "https://api.openweathermap.org/data/2.5/weather?q=Chennai&appid=49cc8c821cd2aff9af04c9f98c36eb74\n"
          ],
          "name": "stdout"
        }
      ]
    },
    {
      "cell_type": "markdown",
      "metadata": {
        "id": "_h88tggA5rtC"
      },
      "source": [
        "**SAVING INFORMATION FROM API**"
      ]
    },
    {
      "cell_type": "code",
      "metadata": {
        "id": "aslsMUUE4-sW"
      },
      "source": [
        "temp_city = ((api_data['main']['temp']) - 273.15)\n",
        "weather_desc = api_data['weather'][0]['description']\n",
        "hmdt = api_data['main']['humidity']\n",
        "wind_spd = api_data['wind']['speed']\n",
        "date_time = datetime.now().strftime(\"%d %b %Y | %I:%M:%S %p\")"
      ],
      "execution_count": 4,
      "outputs": []
    },
    {
      "cell_type": "markdown",
      "metadata": {
        "id": "iJj6-5Hw5m3W"
      },
      "source": [
        "**PRINTING INFORMATION FROM API**"
      ]
    },
    {
      "cell_type": "code",
      "metadata": {
        "colab": {
          "base_uri": "https://localhost:8080/"
        },
        "id": "JArJOOq35A9T",
        "outputId": "c456ec33-9444-427e-f3c2-81e4fa150fa7"
      },
      "source": [
        "print(\"--------------------------------------------------\")\n",
        "print(\"Weather Status for - {} || {}\".format(location.upper(), date_time))\n",
        "print(\"--------------------------------------------------\")\n",
        "print(\"Current temperature         : {:.2f} deg C\".format(temp_city))\n",
        "print(\"Current Weather Description : \", weather_desc)\n",
        "print(\"Current Humidity            : \", hmdt, \"%\")\n",
        "print(\"Current Wind Speed          : \", wind_spd, \"kmph\")"
      ],
      "execution_count": 5,
      "outputs": [
        {
          "output_type": "stream",
          "text": [
            "--------------------------------------------------\n",
            "Weather Status for - CHENNAI || 21 Jun 2021 | 06:49:35 PM\n",
            "--------------------------------------------------\n",
            "Current temperature         : 29.42 deg C\n",
            "Current Weather Description :  scattered clouds\n",
            "Current Humidity            :  77 %\n",
            "Current Wind Speed          :  1.34 kmph\n"
          ],
          "name": "stdout"
        }
      ]
    }
  ]
}